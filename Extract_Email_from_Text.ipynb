{
  "nbformat": 4,
  "nbformat_minor": 0,
  "metadata": {
    "colab": {
      "name": "Extract Email from Text.ipynb",
      "provenance": [],
      "authorship_tag": "ABX9TyNQ2wR0qn8SYCBX21/OO6Ul",
      "include_colab_link": true
    },
    "kernelspec": {
      "name": "python3",
      "display_name": "Python 3"
    }
  },
  "cells": [
    {
      "cell_type": "markdown",
      "metadata": {
        "id": "view-in-github",
        "colab_type": "text"
      },
      "source": [
        "<a href=\"https://colab.research.google.com/github/punwath/automationwithpython/blob/master/Extract_Email_from_Text.ipynb\" target=\"_parent\"><img src=\"https://colab.research.google.com/assets/colab-badge.svg\" alt=\"Open In Colab\"/></a>"
      ]
    },
    {
      "cell_type": "code",
      "metadata": {
        "id": "Qzn_4xF-LryP",
        "colab_type": "code",
        "colab": {}
      },
      "source": [
        "import csv\n",
        "# Capture email address from text\n",
        "inp = \"sample text pprum@wisc.edu\" # Input your text between the quatation mark.\n",
        "word = inp.rstrip()\n",
        "word =inp.split()\n",
        "email = list()\n",
        "for i in word:\n",
        "  if '@' in i:\n",
        "    email.append(i)\n",
        "email = (set(email))\n",
        "print(email)\n",
        "# Export the email list to CSV file.\n",
        "R=\"\\n\".join(email)\n",
        "f = open('Columns.csv','w')\n",
        "f.write(R)\n",
        "f.close()"
      ],
      "execution_count": 0,
      "outputs": []
    }
  ]
}