{
  "nbformat": 4,
  "nbformat_minor": 0,
  "metadata": {
    "colab": {
      "name": "Extract Email from Text.ipynb",
      "provenance": []
    },
    "kernelspec": {
      "name": "python3",
      "display_name": "Python 3"
    }
  },
  "cells": [
    {
      "cell_type": "code",
      "metadata": {
        "id": "Qzn_4xF-LryP",
        "colab_type": "code",
        "colab": {}
      },
      "source": [
        "import csv\n",
        "# Capture email address from text\n",
        "inp = \"sample text pprum@wisc.edu\" # Input your text between the quatation mark.\n",
        "word = inp.rstrip()\n",
        "word =inp.split()\n",
        "email = list()\n",
        "for i in word:\n",
        "  if '@' in i:\n",
        "    email.append(i)\n",
        "email = (set(email))\n",
        "print(email)\n",
        "# Export the email list to CSV file.\n",
        "R=\"\\n\".join(email)\n",
        "f = open('Columns.csv','w')\n",
        "f.write(R)\n",
        "f.close()"
      ],
      "execution_count": 0,
      "outputs": []
    }
  ]
}